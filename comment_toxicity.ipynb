{
 "cells": [
  {
   "cell_type": "markdown",
   "metadata": {},
   "source": [
    "# Natural Language Processing project"
   ]
  },
  {
   "cell_type": "markdown",
   "metadata": {},
   "source": [
    "## Prespecified Model Evaluation Metrics\n",
    "\n",
    "#### Classification Definitions:\n",
    "Positive: a review that is classified by this algorithm to be toxic.\n",
    "\n",
    "Negative: classified to not be toxic.\n",
    "\n",
    "False Positive: classified to be toxic, while in actuality being not toxic.\n",
    "\n",
    "False Negative: classified to be not toxic, while in actuality being toxic.\n",
    "\n",
    "Recall (R): the number of true positives (T_p) over the number of true positives plus the number of false negatives (F_n).\n",
    "\n",
    "Precision (P): the number of true positives (T_p) over the number of true positives plus the number of false positives (F_p).\n",
    "\n",
    "### Discussion of False Negatives and False Positives:\n",
    "It is critical to avoid false negatives. It is fine to accept false positives.\n",
    "Thus we will specify a high-recall model, at the cost of some precision.\n",
    "\n",
    "Beta (in the F-beta score): A high-recall model specifies that beta > 1, placing more weight into recall than into precision. "
   ]
  },
  {
   "cell_type": "code",
   "execution_count": 3,
   "metadata": {
    "collapsed": false
   },
   "outputs": [],
   "source": [
    "import numpy as np\n",
    "import pandas as pd\n",
    "import os\n",
    "import matplotlib.pyplot as plt\n",
    "%matplotlib inline\n",
    "import seaborn as sns"
   ]
  },
  {
   "cell_type": "code",
   "execution_count": 4,
   "metadata": {
    "collapsed": true
   },
   "outputs": [],
   "source": [
    "from sklearn.feature_extraction.text import CountVectorizer\n",
    "\n",
    "from nltk.tokenize import sent_tokenize, word_tokenize\n",
    "from nltk.corpus import stopwords\n",
    "from nltk.stem.snowball import SnowballStemmer\n",
    "\n",
    "from sklearn.naive_bayes import MultinomialNB\n",
    "from sklearn.model_selection import train_test_split\n",
    "from sklearn.metrics import accuracy_score, precision_score, recall_score, f1_score"
   ]
  },
  {
   "cell_type": "markdown",
   "metadata": {},
   "source": [
    "## Data Description:\n",
    "\n",
    "Toxic comment data from Wulczyn, Ellery; Thain, Nithum; Dixon, Lucas (2016): Wikipedia Detox.\n",
    "\n",
    "figshare.doi.org/10.6084/m9.figshare.4054689\n",
    "\n",
    "Warning: some comments in this data set contain offensive language and content. The goal is to flag for offensive behavior automatically.\n",
    "\n",
    "### Begin with simpler cases: comments unanimously agreed upon in toxicity_score"
   ]
  },
  {
   "cell_type": "code",
   "execution_count": 5,
   "metadata": {
    "collapsed": true
   },
   "outputs": [],
   "source": [
    "os.chdir(\"C:/wd/Python/NLP\")\n",
    "\n",
    "comments = toxicity_annotated_comments_unanimous = pd.read_csv(\"data/toxicity_annotated_comments_unanimous.tsv\", sep='\\t')\n",
    "\n",
    "annotations = toxicity_annotations_unanimous = pd.read_csv(\"data/toxicity_annotations_unanimous.tsv\", sep='\\t')"
   ]
  },
  {
   "cell_type": "markdown",
   "metadata": {},
   "source": [
    "#### Simple data checks"
   ]
  },
  {
   "cell_type": "code",
   "execution_count": 6,
   "metadata": {
    "collapsed": false
   },
   "outputs": [
    {
     "data": {
      "text/plain": [
       "True"
      ]
     },
     "execution_count": 6,
     "metadata": {},
     "output_type": "execute_result"
    }
   ],
   "source": [
    "# Verifying that values in unanimously-scored dataset truly are unanimous.\n",
    "comments.shape[0] == annotations[\"rev_id\"].nunique()"
   ]
  },
  {
   "cell_type": "markdown",
   "metadata": {},
   "source": [
    "### Join two data files on review ID (rev_id)\n",
    "\n",
    "- The column rev_id is a primary key in toxicity_annotated_comments_unanimous.tsv.\n",
    "- Though rev_id is NOT unique in toxicity_annotations_unanimous.tsv, the column toxicity_score is unchanging (since we've confirmed a rev_id has a unanimous score).\n",
    "\n",
    "Thus we are able to join on rev_id, to import the toxicity_score data column.\n",
    "We are dropping the columns worker_id and toxicity, for they are not used in this analysis."
   ]
  },
  {
   "cell_type": "code",
   "execution_count": 7,
   "metadata": {
    "collapsed": false
   },
   "outputs": [],
   "source": [
    "toxicity_columns = pd.DataFrame(annotations.groupby(\"rev_id\").mean()[[\"toxicity_score\", \"toxicity\"]])\n",
    "\n",
    "df = pd.merge(comments, toxicity_columns, left_on=\"rev_id\", right_index=True)"
   ]
  },
  {
   "cell_type": "markdown",
   "metadata": {},
   "source": [
    "# Data Cleaning\n",
    "\n",
    "### creation of new columns: string length of RAW comment"
   ]
  },
  {
   "cell_type": "code",
   "execution_count": 8,
   "metadata": {
    "collapsed": false
   },
   "outputs": [
    {
     "data": {
      "text/html": [
       "<div>\n",
       "<table border=\"1\" class=\"dataframe\">\n",
       "  <thead>\n",
       "    <tr style=\"text-align: right;\">\n",
       "      <th></th>\n",
       "      <th>rev_id</th>\n",
       "      <th>comment</th>\n",
       "      <th>year</th>\n",
       "      <th>logged_in</th>\n",
       "      <th>ns</th>\n",
       "      <th>sample</th>\n",
       "      <th>split</th>\n",
       "      <th>toxicity_score</th>\n",
       "      <th>toxicity</th>\n",
       "      <th>length_raw</th>\n",
       "    </tr>\n",
       "  </thead>\n",
       "  <tbody>\n",
       "    <tr>\n",
       "      <th>0</th>\n",
       "      <td>527004.0</td>\n",
       "      <td>NEWLINE_TOKENNEWLINE_TOKENNEWLINE_TOKENNEWLINE...</td>\n",
       "      <td>2002</td>\n",
       "      <td>True</td>\n",
       "      <td>user</td>\n",
       "      <td>random</td>\n",
       "      <td>test</td>\n",
       "      <td>0.0</td>\n",
       "      <td>0.0</td>\n",
       "      <td>141</td>\n",
       "    </tr>\n",
       "  </tbody>\n",
       "</table>\n",
       "</div>"
      ],
      "text/plain": [
       "     rev_id                                            comment  year  \\\n",
       "0  527004.0  NEWLINE_TOKENNEWLINE_TOKENNEWLINE_TOKENNEWLINE...  2002   \n",
       "\n",
       "  logged_in    ns  sample split  toxicity_score  toxicity  length_raw  \n",
       "0      True  user  random  test             0.0       0.0         141  "
      ]
     },
     "execution_count": 8,
     "metadata": {},
     "output_type": "execute_result"
    }
   ],
   "source": [
    "df[\"length_raw\"] = list(map(len, df[\"comment\"]))\n",
    "\n",
    "df.head(1)"
   ]
  },
  {
   "cell_type": "markdown",
   "metadata": {},
   "source": [
    "In rev_id=527004, we see the value of cleaning out \"NEWLINE_TOKEN\"\n",
    "\n",
    "Every step of data cleaning is recorded in a dictionary named \"log\"\n",
    "\n",
    "## remove NEWLINE_TOKEN"
   ]
  },
  {
   "cell_type": "code",
   "execution_count": 9,
   "metadata": {
    "collapsed": true
   },
   "outputs": [],
   "source": [
    "df['comment_v2'] = list(map(lambda s: s.replace(\"NEWLINE_TOKEN\", \"\"), df['comment']))\n",
    "\n",
    "log = {\"v2\": \"'NEWLINE_TOKEN' was removed.\"}\n",
    "\n",
    "df[\"length_v2\"] = list(map(len, df[\"comment_v2\"]))"
   ]
  },
  {
   "cell_type": "markdown",
   "metadata": {
    "collapsed": true
   },
   "source": [
    "## apply stopwords\n",
    "\n",
    "stopwords are common words that add little predictive value. They dilute the presence of words with true predictive power. Thus they are removed."
   ]
  },
  {
   "cell_type": "code",
   "execution_count": 10,
   "metadata": {
    "collapsed": true
   },
   "outputs": [],
   "source": [
    "stop_words = set(stopwords.words('english'))\n",
    "\n",
    "def remove_stop_words(txt):\n",
    "    words = word_tokenize(txt)\n",
    "    words_filtered = []\n",
    "\n",
    "    for w in words:\n",
    "        if w not in stop_words:\n",
    "            words_filtered.append(w)\n",
    "    str_of_words_filtered = ' '.join(words_filtered)\n",
    "    return(str_of_words_filtered)"
   ]
  },
  {
   "cell_type": "code",
   "execution_count": 11,
   "metadata": {
    "collapsed": false
   },
   "outputs": [],
   "source": [
    "df['comment_v3'] = list(map(lambda s: remove_stop_words(s), df['comment_v2']))\n",
    "\n",
    "log[\"v3\"] = \"stop words removed.\"\n",
    "\n",
    "df[\"length_v3\"] = list(map(len, df[\"comment_v3\"]))"
   ]
  },
  {
   "cell_type": "markdown",
   "metadata": {},
   "source": [
    "## Stemming words \n",
    "\n",
    "By stemming words, words like 'going' and 'go' become equal and are not double-counted.\n",
    "\n",
    "#### Stemmer Selection: Snowball\n",
    "\n",
    "It is an improvement over the Porter stemmer.  It is more aggressive, it has a slightly faster computation time, and it is with a fairly large community around it.\n",
    "\n",
    "https://stackoverflow.com/questions/10554052/what-are-the-major-differences-and-benefits-of-porter-and-lancaster-stemming-alg"
   ]
  },
  {
   "cell_type": "code",
   "execution_count": 12,
   "metadata": {
    "collapsed": true
   },
   "outputs": [],
   "source": [
    "stemmer = stemmersnowball = SnowballStemmer(\"english\")\n",
    "from nltk.stem.porter import *\n",
    "stemmerporter = PorterStemmer()"
   ]
  },
  {
   "cell_type": "code",
   "execution_count": 13,
   "metadata": {
    "collapsed": false
   },
   "outputs": [
    {
     "name": "stdout",
     "output_type": "stream",
     "text": [
      "signific\n",
      "significantli\n",
      "generous\n",
      "gener\n"
     ]
    }
   ],
   "source": [
    "# demonstration of Snowball vs Porter\n",
    "print(stemmersnowball.stem('significantly'))\n",
    "print(stemmerporter.stem('significantly'))\n",
    "print(stemmersnowball.stem('generously'))\n",
    "print(stemmerporter.stem('generously'))"
   ]
  },
  {
   "cell_type": "code",
   "execution_count": 14,
   "metadata": {
    "collapsed": true
   },
   "outputs": [],
   "source": [
    "def stemmersnowballstem(entirecomment):\n",
    "    stemmedcomment_as_list = [stemmersnowball.stem(oneword) for oneword in entirecomment.split()]\n",
    "    stemmedcomment = ' '.join(stemmedcomment_as_list)\n",
    "    return stemmedcomment\n",
    "\n",
    "series_comments = df['comment_v3']\n",
    "df['comment_v4'] = list(map(\n",
    "        lambda x: stemmersnowballstem(x), series_comments\n",
    "    ))\n",
    "\n",
    "log['v4'] = \"Stemming done in NLTK.stem with Snowball(Porter2)\"\n",
    "\n",
    "df['length_v4'] = list(map(lambda s: len(s), df['comment_v4']))"
   ]
  },
  {
   "cell_type": "markdown",
   "metadata": {},
   "source": [
    "#### Evaluation: How helpful is stemming words?  Let's view the before-and-after DIFFERENCE in length "
   ]
  },
  {
   "cell_type": "code",
   "execution_count": 15,
   "metadata": {
    "collapsed": false,
    "scrolled": false
   },
   "outputs": [
    {
     "name": "stdout",
     "output_type": "stream",
     "text": [
      "1852    705\n",
      "574     536\n",
      "3258    360\n",
      "1071    327\n",
      "1866    308\n",
      "3296    302\n",
      "543     295\n",
      "1460    289\n",
      "3306    202\n",
      "dtype: int64\n"
     ]
    }
   ],
   "source": [
    "diff_v3_v4 = df['length_v3']-df['length_v4']\n",
    "\n",
    "print(diff_v3_v4.sort_values(ascending=False)[0:9])"
   ]
  },
  {
   "cell_type": "markdown",
   "metadata": {},
   "source": [
    "Result: By stemming words, i.e. removing duplicate instances that stem from the same root word, comments were reduced by hundreds of characters. This is an improvement for toxic word predictability, by further reducing the \"dilution\" of repeated words."
   ]
  },
  {
   "cell_type": "markdown",
   "metadata": {},
   "source": [
    "# Exploratory Histogram: \n",
    "\n",
    "1) Is there any relationship between true comment length and toxicity?"
   ]
  },
  {
   "cell_type": "code",
   "execution_count": 16,
   "metadata": {
    "collapsed": false
   },
   "outputs": [
    {
     "data": {
      "text/plain": [
       " 0.0    3187\n",
       " 1.0     224\n",
       "-1.0     159\n",
       "-2.0      12\n",
       "Name: toxicity_score, dtype: int64"
      ]
     },
     "execution_count": 16,
     "metadata": {},
     "output_type": "execute_result"
    }
   ],
   "source": [
    "df[\"toxicity_score\"].value_counts()"
   ]
  },
  {
   "cell_type": "code",
   "execution_count": 17,
   "metadata": {
    "collapsed": true
   },
   "outputs": [],
   "source": [
    "os.chdir(\"C:/wd/Python/NLP/img\")"
   ]
  },
  {
   "cell_type": "code",
   "execution_count": 18,
   "metadata": {
    "collapsed": false,
    "scrolled": true
   },
   "outputs": [
    {
     "name": "stderr",
     "output_type": "stream",
     "text": [
      "C:\\Users\\Mark\\Anaconda3\\lib\\site-packages\\matplotlib\\axes\\_axes.py:519: UserWarning: No labelled objects found. Use label='...' kwarg on individual plots.\n",
      "  warnings.warn(\"No labelled objects found. \"\n"
     ]
    },
    {
     "data": {
      "image/png": "[encoded data removed]",
      "text/plain": [
       "<matplotlib.figure.Figure at 0x1d18fb6e5c0>"
      ]
     },
     "metadata": {},
     "output_type": "display_data"
    }
   ],
   "source": [
    "# Distribution of comments by length:\n",
    "\n",
    "len_thresh0 = 255\n",
    "this_col='length_raw'\n",
    "df_shortcomment = df[df[this_col] < len_thresh0]\n",
    "\n",
    "plt.hist(df_shortcomment[this_col], alpha=0.5, color='grey')\n",
    "plt.xlabel('Comment Length (char)')\n",
    "plt.ylabel('Number of Reviews')\n",
    "plt.title('All RAW Comments')\n",
    "plt.legend(loc='best')\n",
    "plt.savefig('All RAW Comments, Num vs Len.png')"
   ]
  },
  {
   "cell_type": "markdown",
   "metadata": {},
   "source": [
    "Most comments are under 50 characters.\n",
    "\n",
    "Here I create subdivisions among short, long, +1 and -1 toxicity scores, for visualizations."
   ]
  },
  {
   "cell_type": "code",
   "execution_count": 19,
   "metadata": {
    "collapsed": false,
    "scrolled": true
   },
   "outputs": [
    {
     "name": "stderr",
     "output_type": "stream",
     "text": [
      "C:\\Users\\Mark\\Anaconda3\\lib\\site-packages\\ipykernel\\__main__.py:10: UserWarning: Boolean Series key will be reindexed to match DataFrame index.\n",
      "C:\\Users\\Mark\\Anaconda3\\lib\\site-packages\\ipykernel\\__main__.py:11: UserWarning: Boolean Series key will be reindexed to match DataFrame index.\n",
      "C:\\Users\\Mark\\Anaconda3\\lib\\site-packages\\ipykernel\\__main__.py:13: UserWarning: Boolean Series key will be reindexed to match DataFrame index.\n",
      "C:\\Users\\Mark\\Anaconda3\\lib\\site-packages\\ipykernel\\__main__.py:14: UserWarning: Boolean Series key will be reindexed to match DataFrame index.\n"
     ]
    }
   ],
   "source": [
    "tox=1\n",
    "df_toxicity_positive = df[df.toxicity_score==tox]\n",
    "\n",
    "tox=-1\n",
    "df_toxicity_negative = df[df.toxicity_score==tox]\n",
    "\n",
    "len_thresh2 = 355\n",
    "#len_thresh1 = len_thresh2\n",
    "len_thresh1 = 110\n",
    "df_toxicity_positive_longcomment = df_toxicity_positive[df.length_raw > len_thresh2]\n",
    "df_toxicity_negative_longcomment = df_toxicity_negative[df.length_raw > len_thresh2]\n",
    "\n",
    "df_toxicity_positive_shortcomment = df_toxicity_positive[df.length_raw < len_thresh1]\n",
    "df_toxicity_negative_shortcomment = df_toxicity_negative[df.length_raw < len_thresh1]"
   ]
  },
  {
   "cell_type": "markdown",
   "metadata": {},
   "source": [
    "### Custom plotting: histograms of unanimously-scored reviews"
   ]
  },
  {
   "cell_type": "code",
   "execution_count": 45,
   "metadata": {
    "collapsed": true
   },
   "outputs": [],
   "source": [
    "def plot_custom_hist(data_pos, data_neg, this_col, title):\n",
    "    plt.hist(data_pos[this_col], alpha=0.5, label='tox=1', color='green')\n",
    "    plt.hist(data_neg[this_col], alpha=0.5, label='tox=-1', color='red')\n",
    "    plt.xlabel('Comment Length (char)')\n",
    "    plt.ylabel('Number of Reviews')\n",
    "    plt.title(title)\n",
    "    plt.legend(loc='best')\n",
    "    plt.savefig(title+'.png')"
   ]
  },
  {
   "cell_type": "code",
   "execution_count": 46,
   "metadata": {
    "collapsed": false
   },
   "outputs": [
    {
     "data": {
      "image/png": "[encoded data removed]",
      "text/plain": [
       "<matplotlib.figure.Figure at 0x1d18fefd828>"
      ]
     },
     "metadata": {},
     "output_type": "display_data"
    }
   ],
   "source": [
    "# long comments: raw length\n",
    "plot_custom_hist(\n",
    "    data_pos=df_toxicity_positive_longcomment,\n",
    "    data_neg=df_toxicity_negative_longcomment,\n",
    "    this_col='length_raw', title='Long RAW Comments')"
   ]
  },
  {
   "cell_type": "code",
   "execution_count": 47,
   "metadata": {
    "collapsed": false
   },
   "outputs": [
    {
     "data": {
      "image/png": "[encoded data removed]",
      "text/plain": [
       "<matplotlib.figure.Figure at 0x1d18ff26fd0>"
      ]
     },
     "metadata": {},
     "output_type": "display_data"
    }
   ],
   "source": [
    "# short comments: raw length\n",
    "plot_custom_hist(\n",
    "    data_pos=df_toxicity_positive_shortcomment,\n",
    "    data_neg=df_toxicity_negative_shortcomment,\n",
    "    this_col='length_raw', title='Short RAW Comments')"
   ]
  },
  {
   "cell_type": "markdown",
   "metadata": {},
   "source": [
    "#### Interpretation of histogram above.\n",
    "\n",
    "This histogram shows that no short-length outliers exist. This also shows, potentially, that comments that are (UNANIMOUSLY decided upon as) toxic, tend to have a shorter comment_length. \n",
    "\n",
    "Two ways to think of this: \n",
    "glib and flippant comments tend to be shorter.\n",
    "Simply put, if they're longer, they tend to be kinder.\n",
    "One may be tempted to think from these histograms, that straight-forward predictive power lies in comment_length.\n",
    "However, let's see if the word frequency explains all or most of any predictive power that's found in comment_length."
   ]
  },
  {
   "cell_type": "markdown",
   "metadata": {},
   "source": [
    "### other generated histograms \n",
    "\n",
    "Histograms were created for length_v2 of comments, length_v3 and length_v4.  Here's the histogram of v4 for short comments:"
   ]
  },
  {
   "cell_type": "code",
   "execution_count": 48,
   "metadata": {
    "collapsed": false
   },
   "outputs": [
    {
     "data": {
      "text/plain": [
       "{'v2': \"'NEWLINE_TOKEN' was removed.\",\n",
       " 'v3': 'stop words removed.',\n",
       " 'v4': 'Stemming done in NLTK.stem with Snowball(Porter2)'}"
      ]
     },
     "execution_count": 48,
     "metadata": {},
     "output_type": "execute_result"
    }
   ],
   "source": [
    "# reminder:\n",
    "log"
   ]
  },
  {
   "cell_type": "code",
   "execution_count": 49,
   "metadata": {
    "collapsed": false
   },
   "outputs": [
    {
     "data": {
      "image/png": "[encoded data removed]",
      "text/plain": [
       "<matplotlib.figure.Figure at 0x1d19019e0b8>"
      ]
     },
     "metadata": {},
     "output_type": "display_data"
    }
   ],
   "source": [
    "plot_custom_hist(\n",
    "    data_pos=df_toxicity_positive_shortcomment,\n",
    "    data_neg=df_toxicity_negative_shortcomment,\n",
    "    this_col='length_v4', title='Short v4 Comments')"
   ]
  },
  {
   "cell_type": "markdown",
   "metadata": {},
   "source": [
    "#### Observation:\n",
    "\n",
    "Having taken these data processing steps, the short comments have gotten even shorter.  Thus short comment length (of length_v4) has more predictive power over toxicity."
   ]
  },
  {
   "cell_type": "markdown",
   "metadata": {},
   "source": [
    "# Dataset partitioning for model (on unanimous data)"
   ]
  },
  {
   "cell_type": "code",
   "execution_count": 50,
   "metadata": {
    "collapsed": true
   },
   "outputs": [],
   "source": [
    "Ycolumn = 'toxicity'\n",
    "\n",
    "Xcolumn = 'comment_v4'\n",
    "\n",
    "X_train, X_crossval, y_train, y_crossval = train_test_split(df[Xcolumn], df[Ycolumn], random_state=1)\n",
    "\n",
    "count_vector = CountVectorizer()\n",
    "# fit training data into `CountVectorizer()` and return the matrix.\n",
    "training_data = count_vector.fit_transform(X_train)\n",
    "\n",
    "testing_data = count_vector.transform(X_crossval)"
   ]
  },
  {
   "cell_type": "code",
   "execution_count": 53,
   "metadata": {
    "collapsed": false
   },
   "outputs": [],
   "source": [
    "naive_bayes = MultinomialNB()\n",
    "naive_bayes.fit(training_data, y_train)\n",
    "\n",
    "predictions = naive_bayes.predict(testing_data)"
   ]
  },
  {
   "cell_type": "code",
   "execution_count": 54,
   "metadata": {
    "collapsed": false
   },
   "outputs": [
    {
     "name": "stdout",
     "output_type": "stream",
     "text": [
      "Accuracy score:  0.9631696428571429\n",
      "Precision score:  0.7142857142857143\n",
      "Recall score:  0.35714285714285715\n",
      "F1 score (beta=1):  0.4761904761904762\n",
      "F2 score for high-recall models (beta=2): 0.3968253968253968\n"
     ]
    }
   ],
   "source": [
    "print('Accuracy score: ', format(accuracy_score(y_crossval, predictions)))\n",
    "precision = precision_score(y_crossval, predictions)\n",
    "print('Precision score: ', format(precision))\n",
    "recall = recall_score(y_crossval, predictions)\n",
    "print('Recall score: ', format(recall))\n",
    "\n",
    "print('F1 score (beta=1): ', format(f1_score(y_crossval, predictions)))\n",
    "beta=2\n",
    "f_beta_score = (1+beta**2)*(precision*recall)/((beta**2)*precision + recall)\n",
    "print('F', beta, ' score for high-recall models (beta=', beta, '): ', f_beta_score, sep='')"
   ]
  },
  {
   "cell_type": "markdown",
   "metadata": {},
   "source": [
    "## F2 score of 39.7%"
   ]
  },
  {
   "cell_type": "markdown",
   "metadata": {},
   "source": [
    "# Import, join and test on full data sets\n",
    "\n",
    "### beginning on raw comment\n",
    "\n",
    "This is for model comparison, to test model improvement after these data pre-processing steps."
   ]
  },
  {
   "cell_type": "code",
   "execution_count": 56,
   "metadata": {
    "collapsed": true
   },
   "outputs": [],
   "source": [
    "Ycolumn = 'toxicity'"
   ]
  },
  {
   "cell_type": "code",
   "execution_count": 57,
   "metadata": {
    "collapsed": true
   },
   "outputs": [],
   "source": [
    "Xcolumn = 'comment'"
   ]
  },
  {
   "cell_type": "code",
   "execution_count": 58,
   "metadata": {
    "collapsed": false,
    "scrolled": true
   },
   "outputs": [],
   "source": [
    "## The big data\n",
    "os.chdir(\"C:/wd/Python/NLP/data\")\n",
    "\n",
    "full_toxicity_annotated_comments = pd.read_csv(\"fulldata/toxicity_annotated_comments.tsv\", sep='\\t')\n",
    "\n",
    "full_toxicity_annotations = pd.read_csv(\"fulldata/toxicity_annotations.tsv\", sep='\\t')\n",
    "full_toxicity_score_column = pd.DataFrame(full_toxicity_annotations.groupby(\"rev_id\").mean()[\"toxicity_score\"])\n",
    "# IMPORTANT NOTE: max function is used. This means if a review receives a single toxicity==1 entry, the aggregate will be as such.\n",
    "full_toxicity_column = pd.DataFrame(full_toxicity_annotations.groupby(\"rev_id\").max()[\"toxicity\"])\n",
    "\n",
    "df_right = pd.merge(full_toxicity_score_column, full_toxicity_column, left_index=True, right_index=True)"
   ]
  },
  {
   "cell_type": "code",
   "execution_count": 59,
   "metadata": {
    "collapsed": true
   },
   "outputs": [],
   "source": [
    "df = pd.merge(full_toxicity_annotated_comments, df_right, left_on=\"rev_id\", right_index=True)"
   ]
  },
  {
   "cell_type": "code",
   "execution_count": 60,
   "metadata": {
    "collapsed": true
   },
   "outputs": [],
   "source": [
    "X_train, X_test, y_train, y_test = train_test_split(df[Xcolumn], df[Ycolumn], random_state=1)"
   ]
  },
  {
   "cell_type": "code",
   "execution_count": 61,
   "metadata": {
    "collapsed": false
   },
   "outputs": [
    {
     "name": "stdout",
     "output_type": "stream",
     "text": [
      "Accuracy score:  0.7489855217674465\n",
      "Precision score:  0.7135755913609874\n",
      "Recall score:  0.7137795050580099\n",
      "F1 score (beta=1):  0.7136775336438185\n",
      "F2 score for high-recall models (beta=2): 0.713738712995771\n"
     ]
    }
   ],
   "source": [
    "count_vector = CountVectorizer()\n",
    "# fit training data into `CountVectorizer()` and return the matrix.\n",
    "training_data = count_vector.fit_transform(X_train)\n",
    "\n",
    "testing_data = count_vector.transform(X_test)\n",
    "\n",
    "naive_bayes = MultinomialNB()\n",
    "naive_bayes.fit(training_data, y_train)\n",
    "\n",
    "predictions = naive_bayes.predict(testing_data)\n",
    "\n",
    "print('Accuracy score: ', format(accuracy_score(y_test, predictions)))\n",
    "precision = precision_score(y_test, predictions)\n",
    "print('Precision score: ', format(precision))\n",
    "recall = recall_score(y_test, predictions)\n",
    "print('Recall score: ', format(recall))\n",
    "\n",
    "print('F1 score (beta=1): ', format(f1_score(y_test, predictions)))\n",
    "beta=2\n",
    "f_beta_score = (1+beta**2)*(precision*recall)/((beta**2)*precision + recall)\n",
    "print('F', beta, ' score for high-recall models (beta=', beta, '): ', f_beta_score, sep='')"
   ]
  },
  {
   "cell_type": "markdown",
   "metadata": {},
   "source": [
    "### Preliminary Result:\n",
    "\n",
    "The Naive Bayes Classification model, when trained on the unanimous dataset, yielded an F2 Score (i.e., beta=2) of 39.7%. That data was pre-processed, trained and cross-validated on the column 'Comment_v4'\n",
    "\n",
    "#### Comparison of Recall (by way of F2 score)\n",
    "\n",
    "On the larger dataset, no data pre-processing was done, and this model yielded an F2 Score (i.e., beta=2) of 71.4%.\n",
    "\n",
    "This is attributed to the predictive power of much more data.\n",
    "\n",
    "#### Comparison of Accuracy\n",
    "\n",
    "On the unanimous dataset, the trained model accuracy was 96.3%  Accuracy went down to 74.9%, as expected, because individual comments now have a range of toxicity scores.\n",
    "\n",
    "(Precision remained around 71% in all cases, but this was never a desired evaluation metric anyway.)"
   ]
  },
  {
   "cell_type": "markdown",
   "metadata": {},
   "source": [
    "## repeat data pre-processing on raw comment\n",
    "\n",
    "This is for model comparison, to test model improvement after these data pre-processing steps.\n",
    "\n",
    "Hypothesis: By fine-tuning the model on the larger dataset, by pre-processing a column 'Comment_v4' (of stemming, removing stopwords and NEWLINE_TOKEN), an F2 Score that is higher than 71.4% will suggest that there is predictive value in these pre-processing steps."
   ]
  },
  {
   "cell_type": "markdown",
   "metadata": {},
   "source": [
    "Hypothesis:\n",
    "\n",
    "By fine-tuning the model on the larger dataset, by pre-processing a column 'Comment_v4' (of stemming, removing stopwords and NEWLINE_TOKEN), there is reason to believe that the F2 Score can be even higher than 71.4%"
   ]
  },
  {
   "cell_type": "code",
   "execution_count": 65,
   "metadata": {
    "collapsed": false
   },
   "outputs": [
    {
     "ename": "KeyboardInterrupt",
     "evalue": "",
     "output_type": "error",
     "traceback": [
      "\u001b[1;31m---------------------------------------------------------------------------\u001b[0m",
      "\u001b[1;31mKeyboardInterrupt\u001b[0m                         Traceback (most recent call last)",
      "\u001b[1;32m<ipython-input-65-c9ab84db6bf5>\u001b[0m in \u001b[0;36m<module>\u001b[1;34m()\u001b[0m\n\u001b[0;32m     12\u001b[0m \u001b[0mseries_comments\u001b[0m \u001b[1;33m=\u001b[0m \u001b[0mdf\u001b[0m\u001b[1;33m[\u001b[0m\u001b[1;34m'comment_v3'\u001b[0m\u001b[1;33m]\u001b[0m\u001b[1;33m\u001b[0m\u001b[0m\n\u001b[0;32m     13\u001b[0m df['comment_v4'] = list(map(\n\u001b[1;32m---> 14\u001b[1;33m         \u001b[1;32mlambda\u001b[0m \u001b[0mx\u001b[0m\u001b[1;33m:\u001b[0m \u001b[0mstemmersnowballstem\u001b[0m\u001b[1;33m(\u001b[0m\u001b[0mx\u001b[0m\u001b[1;33m)\u001b[0m\u001b[1;33m,\u001b[0m \u001b[0mseries_comments\u001b[0m\u001b[1;33m\u001b[0m\u001b[0m\n\u001b[0m\u001b[0;32m     15\u001b[0m     ))\n\u001b[0;32m     16\u001b[0m \u001b[1;33m\u001b[0m\u001b[0m\n",
      "\u001b[1;32m<ipython-input-65-c9ab84db6bf5>\u001b[0m in \u001b[0;36m<lambda>\u001b[1;34m(x)\u001b[0m\n\u001b[0;32m     12\u001b[0m \u001b[0mseries_comments\u001b[0m \u001b[1;33m=\u001b[0m \u001b[0mdf\u001b[0m\u001b[1;33m[\u001b[0m\u001b[1;34m'comment_v3'\u001b[0m\u001b[1;33m]\u001b[0m\u001b[1;33m\u001b[0m\u001b[0m\n\u001b[0;32m     13\u001b[0m df['comment_v4'] = list(map(\n\u001b[1;32m---> 14\u001b[1;33m         \u001b[1;32mlambda\u001b[0m \u001b[0mx\u001b[0m\u001b[1;33m:\u001b[0m \u001b[0mstemmersnowballstem\u001b[0m\u001b[1;33m(\u001b[0m\u001b[0mx\u001b[0m\u001b[1;33m)\u001b[0m\u001b[1;33m,\u001b[0m \u001b[0mseries_comments\u001b[0m\u001b[1;33m\u001b[0m\u001b[0m\n\u001b[0m\u001b[0;32m     15\u001b[0m     ))\n\u001b[0;32m     16\u001b[0m \u001b[1;33m\u001b[0m\u001b[0m\n",
      "\u001b[1;32m<ipython-input-14-48328fd62b6b>\u001b[0m in \u001b[0;36mstemmersnowballstem\u001b[1;34m(entirecomment)\u001b[0m\n\u001b[0;32m      1\u001b[0m \u001b[1;32mdef\u001b[0m \u001b[0mstemmersnowballstem\u001b[0m\u001b[1;33m(\u001b[0m\u001b[0mentirecomment\u001b[0m\u001b[1;33m)\u001b[0m\u001b[1;33m:\u001b[0m\u001b[1;33m\u001b[0m\u001b[0m\n\u001b[1;32m----> 2\u001b[1;33m     \u001b[0mstemmedcomment_as_list\u001b[0m \u001b[1;33m=\u001b[0m \u001b[1;33m[\u001b[0m\u001b[0mstemmersnowball\u001b[0m\u001b[1;33m.\u001b[0m\u001b[0mstem\u001b[0m\u001b[1;33m(\u001b[0m\u001b[0moneword\u001b[0m\u001b[1;33m)\u001b[0m \u001b[1;32mfor\u001b[0m \u001b[0moneword\u001b[0m \u001b[1;32min\u001b[0m \u001b[0mentirecomment\u001b[0m\u001b[1;33m.\u001b[0m\u001b[0msplit\u001b[0m\u001b[1;33m(\u001b[0m\u001b[1;33m)\u001b[0m\u001b[1;33m]\u001b[0m\u001b[1;33m\u001b[0m\u001b[0m\n\u001b[0m\u001b[0;32m      3\u001b[0m     \u001b[0mstemmedcomment\u001b[0m \u001b[1;33m=\u001b[0m \u001b[1;34m' '\u001b[0m\u001b[1;33m.\u001b[0m\u001b[0mjoin\u001b[0m\u001b[1;33m(\u001b[0m\u001b[0mstemmedcomment_as_list\u001b[0m\u001b[1;33m)\u001b[0m\u001b[1;33m\u001b[0m\u001b[0m\n\u001b[0;32m      4\u001b[0m     \u001b[1;32mreturn\u001b[0m \u001b[0mstemmedcomment\u001b[0m\u001b[1;33m\u001b[0m\u001b[0m\n\u001b[0;32m      5\u001b[0m \u001b[1;33m\u001b[0m\u001b[0m\n",
      "\u001b[1;32m<ipython-input-14-48328fd62b6b>\u001b[0m in \u001b[0;36m<listcomp>\u001b[1;34m(.0)\u001b[0m\n\u001b[0;32m      1\u001b[0m \u001b[1;32mdef\u001b[0m \u001b[0mstemmersnowballstem\u001b[0m\u001b[1;33m(\u001b[0m\u001b[0mentirecomment\u001b[0m\u001b[1;33m)\u001b[0m\u001b[1;33m:\u001b[0m\u001b[1;33m\u001b[0m\u001b[0m\n\u001b[1;32m----> 2\u001b[1;33m     \u001b[0mstemmedcomment_as_list\u001b[0m \u001b[1;33m=\u001b[0m \u001b[1;33m[\u001b[0m\u001b[0mstemmersnowball\u001b[0m\u001b[1;33m.\u001b[0m\u001b[0mstem\u001b[0m\u001b[1;33m(\u001b[0m\u001b[0moneword\u001b[0m\u001b[1;33m)\u001b[0m \u001b[1;32mfor\u001b[0m \u001b[0moneword\u001b[0m \u001b[1;32min\u001b[0m \u001b[0mentirecomment\u001b[0m\u001b[1;33m.\u001b[0m\u001b[0msplit\u001b[0m\u001b[1;33m(\u001b[0m\u001b[1;33m)\u001b[0m\u001b[1;33m]\u001b[0m\u001b[1;33m\u001b[0m\u001b[0m\n\u001b[0m\u001b[0;32m      3\u001b[0m     \u001b[0mstemmedcomment\u001b[0m \u001b[1;33m=\u001b[0m \u001b[1;34m' '\u001b[0m\u001b[1;33m.\u001b[0m\u001b[0mjoin\u001b[0m\u001b[1;33m(\u001b[0m\u001b[0mstemmedcomment_as_list\u001b[0m\u001b[1;33m)\u001b[0m\u001b[1;33m\u001b[0m\u001b[0m\n\u001b[0;32m      4\u001b[0m     \u001b[1;32mreturn\u001b[0m \u001b[0mstemmedcomment\u001b[0m\u001b[1;33m\u001b[0m\u001b[0m\n\u001b[0;32m      5\u001b[0m \u001b[1;33m\u001b[0m\u001b[0m\n",
      "\u001b[1;32mC:\\Users\\Mark\\Anaconda3\\lib\\site-packages\\nltk\\stem\\snowball.py\u001b[0m in \u001b[0;36mstem\u001b[1;34m(self, word)\u001b[0m\n\u001b[0;32m    963\u001b[0m         \u001b[1;31m# STEP 3\u001b[0m\u001b[1;33m\u001b[0m\u001b[1;33m\u001b[0m\u001b[0m\n\u001b[0;32m    964\u001b[0m         \u001b[1;32mfor\u001b[0m \u001b[0msuffix\u001b[0m \u001b[1;32min\u001b[0m \u001b[0mself\u001b[0m\u001b[1;33m.\u001b[0m\u001b[0m__step3_suffixes\u001b[0m\u001b[1;33m:\u001b[0m\u001b[1;33m\u001b[0m\u001b[0m\n\u001b[1;32m--> 965\u001b[1;33m             \u001b[1;32mif\u001b[0m \u001b[0mword\u001b[0m\u001b[1;33m.\u001b[0m\u001b[0mendswith\u001b[0m\u001b[1;33m(\u001b[0m\u001b[0msuffix\u001b[0m\u001b[1;33m)\u001b[0m\u001b[1;33m:\u001b[0m\u001b[1;33m\u001b[0m\u001b[0m\n\u001b[0m\u001b[0;32m    966\u001b[0m                 \u001b[1;32mif\u001b[0m \u001b[0mr1\u001b[0m\u001b[1;33m.\u001b[0m\u001b[0mendswith\u001b[0m\u001b[1;33m(\u001b[0m\u001b[0msuffix\u001b[0m\u001b[1;33m)\u001b[0m\u001b[1;33m:\u001b[0m\u001b[1;33m\u001b[0m\u001b[0m\n\u001b[0;32m    967\u001b[0m                     \u001b[1;32mif\u001b[0m \u001b[0msuffix\u001b[0m \u001b[1;33m==\u001b[0m \u001b[1;34m\"tional\"\u001b[0m\u001b[1;33m:\u001b[0m\u001b[1;33m\u001b[0m\u001b[0m\n",
      "\u001b[1;31mKeyboardInterrupt\u001b[0m: "
     ]
    }
   ],
   "source": [
    "\n",
    "df['comment_v2'] = list(map(lambda s: s.replace(\"NEWLINE_TOKEN\", \"\"), df['comment']))\n",
    "\n",
    "df[\"length_v2\"] = list(map(len, df[\"comment_v2\"]))\n",
    "\n",
    "\n",
    "df['comment_v3'] = list(map(lambda s: remove_stop_words(s), df['comment_v2']))\n",
    "\n",
    "df[\"length_v3\"] = list(map(len, df[\"comment_v3\"]))\n",
    "\n",
    "\n",
    "series_comments = df['comment_v3']\n",
    "df['comment_v4'] = list(map(\n",
    "        lambda x: stemmersnowballstem(x), series_comments\n",
    "    ))\n",
    "\n",
    "df['length_v4'] = list(map(lambda s: len(s), df['comment_v4']))\n",
    "\n",
    "\n",
    "df.head()"
   ]
  },
  {
   "cell_type": "code",
   "execution_count": null,
   "metadata": {
    "collapsed": true
   },
   "outputs": [],
   "source": [
    "X_train, X_test, y_train, y_test = train_test_split(df[Xcolumn], df[Ycolumn], random_state=1)\n",
    "\n",
    "\n",
    "count_vector = CountVectorizer()\n",
    "\n",
    "training_data = count_vector.fit_transform(X_train)\n",
    "\n",
    "testing_data = count_vector.transform(X_test)\n",
    "\n",
    "naive_bayes = MultinomialNB()\n",
    "naive_bayes.fit(training_data, y_train)\n",
    "\n",
    "predictions = naive_bayes.predict(testing_data)\n",
    "\n",
    "#print('Accuracy score: ', format(accuracy_score(y_test, predictions)))\n",
    "#precision = precision_score(y_test, predictions)\n",
    "#print('Precision score: ', format(precision))\n",
    "#recall = recall_score(y_test, predictions)\n",
    "print('Recall score: ', format(recall))\n",
    "\n",
    "print('F1 score (beta=1): ', format(f1_score(y_test, predictions)))\n",
    "beta=2\n",
    "f_beta_score = (1+beta**2)*(precision*recall)/((beta**2)*precision + recall)\n",
    "print('F', beta, ' score for high-recall models (beta=', beta, '): ', f_beta_score, sep='')"
   ]
  }
 ],
 "metadata": {
  "anaconda-cloud": {},
  "kernelspec": {
   "display_name": "Python [Root]",
   "language": "python",
   "name": "Python [Root]"
  },
  "language_info": {
   "codemirror_mode": {
    "name": "ipython",
    "version": 3
   },
   "file_extension": ".py",
   "mimetype": "text/x-python",
   "name": "python",
   "nbconvert_exporter": "python",
   "pygments_lexer": "ipython3",
   "version": "3.5.2"
  }
 },
 "nbformat": 4,
 "nbformat_minor": 2
}
